{
 "cells": [
  {
   "cell_type": "markdown",
   "metadata": {},
   "source": [
    "##### 1.9 файл с кодом для инициализации модели, загрузки весов, предобработки изображения и режима предсказания модели"
   ]
  },
  {
   "cell_type": "code",
   "execution_count": null,
   "metadata": {},
   "outputs": [],
   "source": []
  },
  {
   "cell_type": "code",
   "execution_count": 1,
   "metadata": {},
   "outputs": [
    {
     "name": "stderr",
     "output_type": "stream",
     "text": [
      "INFO:     Started server process [4436]\n",
      "INFO:     Waiting for application startup.\n",
      "INFO:     Application startup complete.\n",
      "INFO:     Uvicorn running on http://0.0.0.0:8023 (Press CTRL+C to quit)\n"
     ]
    }
   ],
   "source": [
    "import nest_asyncio\n",
    "from fastapi import FastAPI, File, UploadFile\n",
    "from fastapi.responses import JSONResponse\n",
    "import uvicorn\n",
    "from threading import Thread\n",
    "from tensorflow.keras.models import load_model\n",
    "import numpy as np\n",
    "from io import BytesIO\n",
    "from PIL import Image\n",
    "from tensorflow.keras.preprocessing.image import load_img, img_to_array\n",
    "\n",
    "\n",
    "model1 = load_model(\"model_mnist_1.keras\")  # Инициализация модели\n",
    "def process(image_file):\n",
    "\n",
    "    # Открытие обрабатываемого файла\n",
    "    image = load_img(BytesIO(image_file), target_size=(28, 28), color_mode='grayscale')\n",
    "    array = img_to_array(image)\n",
    "    \n",
    "    array = array[np.newaxis, ...] # .[np.newaxis, ...] - добавление нового измерения (третьего)- (1,28,28)\n",
    "    qq1 = array.reshape(1,784)\n",
    "    li = []\n",
    "    for i in range(len(qq1)):\n",
    "        a = (255-qq1[i])/255\n",
    "        li.append(a)\n",
    "    qq2 = np.array(li)\n",
    "    \n",
    "\n",
    "    # Запуск предсказания\n",
    "    prediction_array = model1.predict(qq2)\n",
    "\n",
    "    # Возврат предсказания сети\n",
    "    prdct = np.argmax(prediction_array)\n",
    "    return  int(prdct)\n",
    "\n",
    "\n",
    "nest_asyncio.apply() # Переиспользование событийного цикла в Jupyter Notebook\n",
    "app = FastAPI() # Создание приложения FastAPI\n",
    "\n",
    "# Маршрут\n",
    "@app.post(\"/predict\")\n",
    "async def create_file(file: bytes = File(...)):\n",
    "    return {\"result\": process(file)}\n",
    "\n",
    "# Функция для запуска Uvicorn сервера в отдельном потоке\n",
    "def run_app():\n",
    "    uvicorn.run(app, host=\"0.0.0.0\", port=8023)\n",
    "    \n",
    "# Запуск FastAPI приложения в отдельном потоке\n",
    "thread = Thread(target=run_app)\n",
    "thread.start()\n"
   ]
  },
  {
   "cell_type": "code",
   "execution_count": null,
   "metadata": {},
   "outputs": [],
   "source": []
  },
  {
   "cell_type": "code",
   "execution_count": 2,
   "metadata": {},
   "outputs": [
    {
     "name": "stdout",
     "output_type": "stream",
     "text": [
      "\u001b[1m1/1\u001b[0m \u001b[32m━━━━━━━━━━━━━━━━━━━━\u001b[0m\u001b[37m\u001b[0m \u001b[1m0s\u001b[0m 42ms/step\n",
      "INFO:     127.0.0.1:50783 - \"POST /predict HTTP/1.1\" 200 OK\n",
      "{'result': 5}\n"
     ]
    }
   ],
   "source": [
    "import requests\n",
    "\n",
    "files = {'file': open('5.jpg', 'rb')}\n",
    "r = requests.post('http://127.0.0.1:8023/predict', files=files)\n",
    "print(r.json())  # Для печати результата предсказания"
   ]
  },
  {
   "cell_type": "code",
   "execution_count": 3,
   "metadata": {
    "scrolled": false
   },
   "outputs": [
    {
     "name": "stdout",
     "output_type": "stream",
     "text": [
      "\u001b[1m1/1\u001b[0m \u001b[32m━━━━━━━━━━━━━━━━━━━━\u001b[0m\u001b[37m\u001b[0m \u001b[1m0s\u001b[0m 30ms/step\n",
      "INFO:     127.0.0.1:50784 - \"POST /predict HTTP/1.1\" 200 OK\n",
      "{'result': 5}\n"
     ]
    }
   ],
   "source": [
    "import requests\n",
    "\n",
    "url = \"http://127.0.0.1:8023/predict\"\n",
    "file_path = \"5.jpg\"\n",
    "\n",
    "with open(file_path, \"rb\") as file_to_upload:\n",
    "    response = requests.post(url, files={\"file\": file_to_upload})\n",
    "\n",
    "print(response.json())"
   ]
  },
  {
   "cell_type": "code",
   "execution_count": null,
   "metadata": {},
   "outputs": [],
   "source": []
  },
  {
   "cell_type": "code",
   "execution_count": null,
   "metadata": {},
   "outputs": [],
   "source": []
  },
  {
   "cell_type": "code",
   "execution_count": null,
   "metadata": {},
   "outputs": [],
   "source": []
  }
 ],
 "metadata": {
  "colab": {
   "provenance": []
  },
  "kernelspec": {
   "display_name": "Python 3 (ipykernel)",
   "language": "python",
   "name": "python3"
  },
  "language_info": {
   "codemirror_mode": {
    "name": "ipython",
    "version": 3
   },
   "file_extension": ".py",
   "mimetype": "text/x-python",
   "name": "python",
   "nbconvert_exporter": "python",
   "pygments_lexer": "ipython3",
   "version": "3.11.5"
  }
 },
 "nbformat": 4,
 "nbformat_minor": 1
}

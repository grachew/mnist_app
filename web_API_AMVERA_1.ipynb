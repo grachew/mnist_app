{
 "cells": [
  {
   "cell_type": "code",
   "execution_count": 1,
   "metadata": {},
   "outputs": [
    {
     "name": "stderr",
     "output_type": "stream",
     "text": [
      "INFO:     Started server process [9836]\n",
      "INFO:     Waiting for application startup.\n",
      "INFO:     Application startup complete.\n",
      "INFO:     Uvicorn running on http://0.0.0.0:8028 (Press CTRL+C to quit)\n"
     ]
    }
   ],
   "source": [
    "import nest_asyncio\n",
    "from fastapi import FastAPI, File, UploadFile\n",
    "from fastapi.responses import JSONResponse\n",
    "import uvicorn\n",
    "from threading import Thread\n",
    "from tensorflow.keras.models import load_model\n",
    "import numpy as np\n",
    "from io import BytesIO\n",
    "from PIL import Image\n",
    "from tensorflow.keras.preprocessing.image import load_img, img_to_array\n",
    "\n",
    "\n",
    "model1 = load_model(\"model_mnist_1.keras\")  # Инициализация модели\n",
    "def process(image_file):\n",
    "\n",
    "    # Открытие обрабатываемого файла\n",
    "    image = load_img(BytesIO(image_file), target_size=(28, 28), color_mode='grayscale')\n",
    "    array = img_to_array(image)\n",
    "    \n",
    "    array = array[np.newaxis, ...] # .[np.newaxis, ...] - добавление нового измерения (третьего)- (1,28,28)\n",
    "    qq1 = array.reshape(1,784)\n",
    "    li = []\n",
    "    for i in range(len(qq1)):\n",
    "        a = (255-qq1[i])/255\n",
    "        li.append(a)\n",
    "    qq2 = np.array(li)\n",
    "    \n",
    "\n",
    "    # Запуск предсказания\n",
    "    prediction_array = model1.predict(qq2)\n",
    "\n",
    "    # Возврат предсказания сети\n",
    "    prdct = np.argmax(prediction_array)\n",
    "    return  int(prdct)\n",
    "\n",
    "\n",
    "nest_asyncio.apply() # Переиспользование событийного цикла в Jupyter Notebook\n",
    "app = FastAPI() # Создание приложения FastAPI\n",
    "\n",
    "# Маршрут\n",
    "@app.post(\"/predict\")\n",
    "async def create_file(file: bytes = File(...)):\n",
    "    return {\"result\": process(file)}\n",
    "\n",
    "# Функция для запуска Uvicorn сервера в отдельном потоке\n",
    "def run_app():\n",
    "    uvicorn.run(app, host=\"0.0.0.0\", port=8028)\n",
    "    \n",
    "# Запуск FastAPI приложения в отдельном потоке\n",
    "thread = Thread(target=run_app)\n",
    "thread.start()\n"
   ]
  },
  {
   "cell_type": "markdown",
   "metadata": {},
   "source": [
    "#### Создайте файл `requirements.txt` с помощью `pip freeze`"
   ]
  },
  {
   "cell_type": "markdown",
   "metadata": {},
   "source": [
    "В новой ячейке вашего Jupyter Notebook выполните:\n",
    "    \n",
    "!pip freeze > requirements.txt"
   ]
  },
  {
   "cell_type": "code",
   "execution_count": 2,
   "metadata": {},
   "outputs": [],
   "source": [
    "!pip freeze > requirements.txt"
   ]
  },
  {
   "cell_type": "code",
   "execution_count": null,
   "metadata": {},
   "outputs": [],
   "source": []
  },
  {
   "cell_type": "code",
   "execution_count": null,
   "metadata": {},
   "outputs": [],
   "source": []
  },
  {
   "cell_type": "code",
   "execution_count": null,
   "metadata": {},
   "outputs": [],
   "source": []
  },
  {
   "cell_type": "code",
   "execution_count": null,
   "metadata": {},
   "outputs": [],
   "source": []
  }
 ],
 "metadata": {
  "colab": {
   "provenance": []
  },
  "kernelspec": {
   "display_name": "Python 3 (ipykernel)",
   "language": "python",
   "name": "python3"
  },
  "language_info": {
   "codemirror_mode": {
    "name": "ipython",
    "version": 3
   },
   "file_extension": ".py",
   "mimetype": "text/x-python",
   "name": "python",
   "nbconvert_exporter": "python",
   "pygments_lexer": "ipython3",
   "version": "3.11.5"
  }
 },
 "nbformat": 4,
 "nbformat_minor": 1
}
